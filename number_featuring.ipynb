{
 "cells": [
  {
   "cell_type": "code",
   "execution_count": 24,
   "metadata": {},
   "outputs": [],
   "source": [
    "import struct\n",
    "from PIL import Image\n",
    "import numpy as np\n",
    "\n",
    "import matplotlib\n",
    "import matplotlib.pyplot as plt\n",
    "from matplotlib.pyplot import imshow\n",
    "import skimage.io as io\n",
    "from skimage.filters import threshold_otsu\n",
    "from PIL import Image\n",
    "\n",
    "\n",
    "\n",
    "%matplotlib inline"
   ]
  },
  {
   "cell_type": "code",
   "execution_count": 55,
   "metadata": {},
   "outputs": [
    {
     "name": "stdout",
     "output_type": "stream",
     "text": [
      "<PIL.JpegImagePlugin.JpegImageFile image mode=RGB size=52x47 at 0x15A0162A940>\n",
      "52 47\n",
      "(54, 49)\n"
     ]
    },
    {
     "data": {
      "image/png": "[encoded data removed]",
      "text/plain": [
       "<Figure size 432x288 with 1 Axes>"
      ]
     },
     "metadata": {
      "needs_background": "light"
     },
     "output_type": "display_data"
    }
   ],
   "source": [
    "# main문\n",
    "#np.set_printoptions(threshold=sys.maxsize)\n",
    "img = Image.open(\"dataset_thinning/test48.jpg\")\n",
    "print(img)\n",
    "width, height = img.size\n",
    "imshow(np.asarray(img))\n",
    "print(width, height)\n",
    "#print(np.array(img))\n",
    "img_Copy = np.array(img)\n",
    "img_Copy = np.array(img)< 125\n",
    "\n",
    "test = np.zeros((width+2,height+2))\n",
    "print(test.shape)\n",
    "for j in range(height):\n",
    "    for i in range(width):\n",
    "        if img_Copy[j][i][0] == 1:\n",
    "            test[i+1][j+1]=1\n",
    "        \n"
   ]
  },
  {
   "cell_type": "code",
   "execution_count": 56,
   "metadata": {},
   "outputs": [],
   "source": [
    "def neighbours(x,y,image):\n",
    "    \"해당하는 점에 대하여 주변 픽셀 8개를 지정해줌\"\n",
    "    img = image\n",
    "    x_1, y_1, x1, y1 = x-1, y-1, x+1, y+1\n",
    "    return [ img[x_1][y], img[x_1][y1], img[x][y1], img[x1][y1],     # P2,P3,P4,P5\n",
    "                img[x1][y], img[x1][y_1], img[x][y_1], img[x_1][y_1] ]    # P6,P7,P8,P9\n",
    "\n",
    "\n",
    "def transitions(neighbours):\n",
    "    \"주변 픽셀을 9시방향부터 시작하여 시계방향으로 돌렸을 때 두픽셀이 0->1로 되는 갯수\"\n",
    "    n = neighbours + neighbours[0:1]      # P2, P3, ... , P8, P9, P2\n",
    "    return sum( (n1, n2) == (0, 1) for n1, n2 in zip(n, n[1:]) )  # (P2,P3), (P3,P4), ... , (P8,P9), (P9,P2)\n",
    "\n",
    "def breaking(neighbours):\n",
    "    vertical = neighbours[0]+neighbours[4]\n",
    "    horizontal = neighbours[2]+neighbours[6]\n",
    "    \n",
    "    diagonal_LU = neighbours[5]+neighbours[1]\n",
    "    diagonal_RU = neighbours[3]+neighbours[7]\n",
    "    \n",
    "    result=True\n",
    "    if (np.sum(vertical)==2 and np.sum(horizontal)!=2 and np.sum(diagonal_LU)!=2 and np.sum(diagonal_RU)!=2 ):\n",
    "        result=False\n",
    "    elif(np.sum(vertical)!=2 and np.sum(horizontal)==2 and np.sum(diagonal_LU)!=2 and np.sum(diagonal_RU)!=2 ):\n",
    "        result=False\n",
    "    elif(np.sum(vertical)!=2 and np.sum(horizontal)!=2 and np.sum(diagonal_LU)==2 and np.sum(diagonal_RU)!=2 ):\n",
    "        result=False\n",
    "    elif(np.sum(vertical)!=2 and np.sum(horizontal)!=2 and np.sum(diagonal_LU)!=2 and np.sum(diagonal_RU)==2 ):\n",
    "        result=False    \n",
    "    return result\n",
    "    \n",
    "\n",
    "def featuring(image):\n",
    "    \"끝점 분기점 꺽인점 찾기\"\n",
    "    Image_Thinned = image.copy()  # 이미지를 복사하여 넣음\n",
    "\n",
    "        \n",
    "    rows, columns = Image_Thinned.shape               # x for rows, y for columns\n",
    "\n",
    "    # Step 끝점\n",
    "    tail=[]\n",
    "    bifur = []\n",
    "    breakpoint = [] \n",
    "    for x in range(1, rows - 1):                     # No. of  rows\n",
    "        for y in range(1, columns - 1):            # No. of columns\n",
    "\n",
    "            P2,P3,P4,P5,P6,P7,P8,P9 = n = neighbours(x, y, Image_Thinned)\n",
    "            # Step 끝점\n",
    "            if (Image_Thinned[x][y] == 1 and sum(n) == 1 and transitions(n) == 1):         \n",
    "                tail.append((x,y))\n",
    "\n",
    "            # Step 분기점\n",
    "            elif (Image_Thinned[x][y] == 1 and sum(n) >= 3 and transitions(n) >= 3):         \n",
    "                bifur.append((x,y))\n",
    "\n",
    "            # Step 꺽이는점\n",
    "            elif (Image_Thinned[x][y] == 1 and sum(n) == 2 and transitions(n) == 2 and breaking(n)==True):         \n",
    "                breakpoint.append((x,y))\n",
    "\n",
    "\n",
    "\n",
    "    for x, y in tail: \n",
    "        Image_Thinned[x][y] = 2            \n",
    "    for x, y in bifur: \n",
    "        Image_Thinned[x][y] = 3\n",
    "    for x, y in breakpoint: \n",
    "        Image_Thinned[x][y] = 4     \n",
    "\n",
    "\n",
    "            \n",
    "    return Image_Thinned"
   ]
  },
  {
   "cell_type": "code",
   "execution_count": 57,
   "metadata": {},
   "outputs": [],
   "source": [
    "get_test=featuring(test)"
   ]
  },
  {
   "cell_type": "code",
   "execution_count": 58,
   "metadata": {},
   "outputs": [
    {
     "name": "stdout",
     "output_type": "stream",
     "text": [
      "\n",
      "0.00.00.00.00.00.00.00.00.00.00.00.00.00.00.00.00.00.00.00.00.00.00.00.00.00.00.00.00.00.00.00.00.00.00.00.00.00.00.00.00.00.00.00.00.00.00.00.00.00.00.00.00.00.0\n",
      "0.00.00.00.00.00.00.00.00.00.00.00.00.00.00.00.00.00.00.00.00.00.00.00.00.00.00.00.00.00.00.00.00.00.00.00.00.00.00.00.01.01.04.00.00.00.00.00.00.00.00.00.00.00.0\n",
      "0.00.00.00.00.00.00.00.00.00.00.00.00.00.00.00.00.00.00.00.00.00.00.00.00.00.00.00.00.00.00.00.00.00.00.00.00.00.04.01.01.00.01.00.00.00.00.00.00.00.00.00.00.00.0\n",
      "0.00.00.00.00.00.00.00.00.00.00.00.00.00.00.00.00.00.00.00.00.00.00.00.00.00.00.00.00.00.00.00.00.00.00.00.00.01.00.00.00.00.00.04.04.00.00.00.00.00.00.00.00.00.0\n",
      "0.00.00.00.00.00.00.00.00.00.00.00.00.00.00.00.00.00.00.00.00.00.00.00.00.00.00.00.00.00.00.00.00.00.00.04.01.00.00.00.00.00.00.00.00.01.00.00.00.00.00.00.00.00.0\n",
      "0.00.00.00.00.00.00.00.00.00.00.00.00.00.00.00.00.00.00.00.00.00.00.00.00.00.00.00.00.00.00.00.00.00.00.01.00.00.00.00.00.00.00.00.00.00.04.04.00.00.00.00.00.00.0\n",
      "0.00.00.00.00.00.00.00.00.00.00.00.00.00.00.00.00.00.00.00.00.00.00.00.00.00.00.00.00.00.00.00.00.00.04.00.00.00.00.00.00.00.00.00.00.00.00.00.01.00.00.00.00.00.0\n",
      "0.00.00.00.00.00.00.00.00.00.00.00.00.00.00.00.00.00.00.00.00.00.00.00.00.00.00.00.00.00.00.00.00.00.04.00.00.00.00.00.00.00.00.00.00.00.00.00.00.01.00.00.00.00.0\n",
      "0.00.00.00.00.00.00.00.00.00.00.00.00.00.00.00.00.00.00.00.00.00.00.00.00.00.00.00.00.00.00.00.00.00.00.03.01.01.01.01.04.00.00.00.00.00.00.00.00.00.01.00.00.00.0\n",
      "0.00.00.00.00.00.00.00.00.00.00.00.00.00.00.00.00.00.00.00.00.00.00.00.00.00.00.00.00.00.00.00.00.00.00.01.00.00.00.00.00.01.00.00.00.00.00.00.00.00.00.01.00.00.0\n",
      "0.00.00.00.00.00.00.00.00.00.00.00.00.00.00.00.00.00.00.00.00.00.00.00.00.00.00.00.00.00.00.00.00.00.01.04.00.00.00.00.00.00.04.00.00.00.00.00.00.00.00.01.01.00.0\n",
      "0.00.00.00.00.00.00.00.00.00.00.00.00.00.00.00.00.00.00.00.00.00.00.00.00.00.00.00.00.00.00.00.00.01.00.00.00.00.00.00.00.00.04.00.00.00.00.00.00.00.00.00.01.00.0\n",
      "0.00.00.00.00.00.00.00.00.00.00.00.00.00.00.00.00.00.00.00.00.00.00.00.00.00.00.00.00.00.00.00.04.00.00.00.00.00.00.00.00.00.00.02.00.00.00.00.00.00.00.00.01.00.0\n",
      "0.00.00.00.00.00.00.00.00.00.00.00.00.00.00.00.00.00.00.00.00.00.00.00.00.00.00.00.00.00.00.00.04.00.00.00.00.00.00.00.00.00.00.00.00.00.00.00.00.00.00.00.01.00.0\n",
      "0.00.00.00.00.00.00.00.00.00.00.00.00.00.00.00.00.00.00.00.00.00.00.00.00.00.00.00.00.00.00.04.00.00.00.00.00.00.00.00.00.00.00.00.00.00.00.00.00.00.00.00.04.00.0\n",
      "0.00.00.00.00.00.00.00.00.00.00.00.00.00.00.00.00.00.00.00.00.00.00.00.00.00.00.00.00.00.00.01.00.00.00.00.00.00.00.00.00.00.00.00.00.00.00.00.00.00.00.04.00.00.0\n",
      "0.00.00.00.00.00.00.00.00.00.00.00.00.00.00.00.00.00.00.00.00.00.00.00.00.00.00.00.00.00.00.04.00.00.00.00.00.00.00.00.00.00.00.00.00.00.00.00.00.00.00.04.00.00.0\n",
      "0.00.00.00.00.00.00.00.00.00.00.00.00.00.00.00.00.00.00.00.00.00.00.00.00.00.00.00.00.00.04.00.00.00.00.00.00.00.00.00.00.00.00.00.00.00.00.00.04.01.04.00.00.00.0\n",
      "0.00.00.00.00.00.00.00.00.00.00.00.00.00.00.00.00.00.00.00.00.00.00.00.00.00.00.00.00.00.01.00.00.00.00.00.00.00.00.00.00.00.00.00.00.04.01.04.00.00.00.00.00.00.0\n",
      "0.00.00.00.00.00.00.00.00.00.00.00.00.00.00.00.00.00.00.00.00.00.00.00.00.00.00.00.00.00.01.00.00.00.00.00.00.00.00.00.00.04.01.01.04.00.00.00.00.00.00.00.00.00.0\n",
      "0.00.00.00.00.00.00.00.00.00.00.00.00.00.00.00.00.00.00.00.00.00.00.00.00.00.00.00.00.00.01.00.00.00.00.00.00.01.01.01.04.00.00.00.00.00.00.00.00.00.00.00.00.00.0\n",
      "0.00.00.00.00.00.00.00.00.00.00.00.00.00.00.00.00.00.00.00.00.00.00.00.00.00.00.00.00.00.01.00.00.00.04.01.01.01.00.00.00.00.00.00.00.00.00.00.00.00.00.00.00.00.0\n",
      "0.00.00.00.00.00.00.00.00.00.00.00.00.00.00.00.00.00.00.00.00.00.00.00.00.00.00.00.00.00.03.01.01.04.00.00.00.00.00.00.00.00.00.00.00.00.00.00.00.00.00.00.00.00.0\n",
      "0.00.00.00.00.00.00.00.00.00.00.00.00.00.00.00.00.00.00.00.00.00.00.00.00.00.00.00.00.00.01.00.00.00.00.00.00.00.00.00.00.00.00.00.00.00.00.00.00.00.00.00.00.00.0\n",
      "0.00.00.00.00.00.00.00.00.00.00.00.00.00.00.00.00.00.00.00.00.00.00.00.04.01.01.01.01.03.00.00.00.00.00.00.00.00.00.00.00.00.00.00.00.00.00.00.00.00.00.00.00.00.0\n",
      "0.00.00.00.00.00.00.00.00.00.00.00.00.00.00.00.00.00.00.00.00.04.01.04.00.00.00.00.00.01.00.00.00.00.00.00.00.00.00.00.00.00.00.00.00.00.00.00.00.00.00.00.00.00.0\n",
      "0.00.00.00.00.00.00.00.00.00.00.00.00.00.00.00.00.00.01.01.04.00.00.00.00.00.00.00.00.04.00.00.00.00.00.00.00.00.00.00.00.00.00.00.00.00.00.00.00.00.00.00.00.00.0\n",
      "0.00.00.00.00.00.00.00.00.00.00.00.00.00.00.00.04.01.01.00.00.00.00.00.00.00.00.00.04.00.00.00.00.00.00.00.00.00.00.00.00.00.00.00.00.00.00.00.00.00.00.00.00.00.0\n",
      "0.00.00.00.00.00.00.00.00.00.00.00.00.01.01.04.00.00.00.00.00.00.00.00.00.00.00.00.01.00.00.00.00.00.00.00.00.00.00.00.00.00.00.00.00.00.00.00.00.00.00.00.00.00.0\n",
      "0.00.00.00.00.00.00.00.00.00.00.00.01.01.00.00.00.00.00.00.00.00.00.00.00.00.00.00.04.00.00.00.00.00.00.00.00.00.00.00.00.00.00.00.00.00.00.00.00.00.00.00.00.00.0\n",
      "0.00.00.00.00.00.00.00.00.01.01.04.00.00.00.00.00.00.00.00.00.00.00.00.00.00.00.04.00.00.00.00.00.00.00.00.00.00.00.00.00.00.00.00.00.00.00.00.00.00.00.00.00.00.0\n",
      "0.00.00.00.00.00.00.00.01.01.00.00.00.00.00.00.00.00.00.00.00.00.00.00.00.00.00.01.00.00.00.00.00.00.00.00.00.00.00.00.00.00.00.00.00.00.00.00.00.00.00.00.00.00.0\n",
      "0.00.00.00.00.00.00.01.01.00.00.00.00.00.00.00.00.00.00.00.00.00.00.00.00.00.00.04.00.00.00.00.00.00.00.00.00.00.00.00.00.00.00.00.00.00.00.00.00.00.00.00.00.00.0\n",
      "0.00.00.00.00.00.01.00.00.00.00.00.00.00.00.00.00.00.00.00.00.00.00.00.00.00.04.00.00.00.00.00.00.00.00.00.00.00.00.00.00.00.00.00.00.00.00.00.00.00.00.00.00.00.0\n",
      "0.00.00.00.00.01.00.00.00.00.00.00.00.00.00.00.00.00.00.00.00.00.00.00.00.00.04.00.00.00.00.00.00.00.00.00.00.00.00.00.00.00.00.00.00.00.00.00.00.00.00.00.00.00.0\n",
      "0.00.00.00.01.00.00.00.00.00.00.00.00.00.00.00.00.00.00.00.00.00.00.00.00.04.00.00.00.00.00.00.00.00.00.00.00.00.00.00.00.00.00.00.00.00.00.00.00.00.00.00.00.00.0\n",
      "0.00.00.01.00.00.00.00.00.00.00.00.00.00.00.00.00.00.00.00.00.00.00.00.00.01.00.00.00.00.00.00.00.00.00.00.00.00.00.00.00.00.00.00.00.00.00.00.00.00.00.00.00.00.0\n",
      "0.04.01.04.00.00.00.00.00.00.00.00.00.00.00.00.00.00.00.00.00.00.00.00.00.01.00.00.00.00.00.00.00.00.00.00.00.00.00.00.00.00.00.00.00.00.00.00.00.00.00.00.00.00.0\n",
      "0.01.00.00.00.00.00.00.00.00.00.00.00.00.00.00.00.00.00.00.00.00.00.04.01.04.00.00.00.00.00.00.00.00.00.00.00.00.00.00.00.00.00.00.00.00.00.00.00.00.00.00.00.00.0\n",
      "0.01.00.00.00.00.00.00.00.00.00.00.00.00.00.00.00.00.00.00.00.00.00.01.00.00.00.00.00.00.00.00.00.00.00.00.00.00.00.00.00.00.00.00.00.00.00.00.00.00.00.00.00.00.0\n",
      "0.01.00.00.00.00.00.00.00.00.00.00.00.00.00.00.00.00.00.00.00.00.01.00.00.00.00.00.00.00.00.00.00.00.00.00.00.00.00.00.00.00.00.00.00.00.00.00.00.00.00.00.00.00.0\n",
      "0.01.00.00.00.00.00.00.00.00.00.00.00.00.00.00.00.00.00.00.00.01.01.00.00.00.00.00.00.00.00.00.00.00.00.00.00.00.00.00.00.00.00.00.00.00.00.00.00.00.00.00.00.00.0\n",
      "0.01.00.00.00.00.00.00.00.00.00.00.00.00.00.00.00.00.00.00.01.01.00.00.00.00.00.00.00.00.00.00.00.00.00.00.00.00.00.00.00.00.00.00.00.00.00.00.00.00.00.00.00.00.0\n",
      "0.04.01.01.00.00.00.00.00.00.00.00.00.00.00.00.00.00.00.01.01.00.00.00.00.00.00.00.00.00.00.00.00.00.00.00.00.00.00.00.00.00.00.00.00.00.00.00.00.00.00.00.00.00.0\n",
      "0.00.00.01.01.00.00.00.00.00.00.00.00.00.00.00.00.00.01.00.00.00.00.00.00.00.00.00.00.00.00.00.00.00.00.00.00.00.00.00.00.00.00.00.00.00.00.00.00.00.00.00.00.00.0\n",
      "0.00.00.00.01.01.00.00.00.00.00.00.00.00.00.00.04.04.00.00.00.00.00.00.00.00.00.00.00.00.00.00.00.00.00.00.00.00.00.00.00.00.00.00.00.00.00.00.00.00.00.00.00.00.0\n",
      "0.00.00.00.00.00.01.00.00.00.00.00.00.00.00.01.00.00.00.00.00.00.00.00.00.00.00.00.00.00.00.00.00.00.00.00.00.00.00.00.00.00.00.00.00.00.00.00.00.00.00.00.00.00.0\n",
      "0.00.00.00.00.00.04.01.01.01.01.02.00.02.01.04.00.00.00.00.00.00.00.00.00.00.00.00.00.00.00.00.00.00.00.00.00.00.00.00.00.00.00.00.00.00.00.00.00.00.00.00.00.00.0\n",
      "0.00.00.00.00.00.00.00.00.00.00.00.00.00.00.00.00.00.00.00.00.00.00.00.00.00.00.00.00.00.00.00.00.00.00.00.00.00.00.00.00.00.00.00.00.00.00.00.00.00.00.00.00.00.0"
     ]
    }
   ],
   "source": [
    "for j in range(height+2):\n",
    "    print()\n",
    "    for i in range(width+2):\n",
    "        print(get_test[i][j],end='')"
   ]
  },
  {
   "cell_type": "code",
   "execution_count": 59,
   "metadata": {},
   "outputs": [
    {
     "data": {
      "image/png": "[encoded data removed]",
      "text/plain": [
       "<Figure size 432x288 with 1 Axes>"
      ]
     },
     "metadata": {
      "needs_background": "light"
     },
     "output_type": "display_data"
    }
   ],
   "source": [
    "image = Image.new(\"RGB\",(width+2,height+2),(255,255,255))\n",
    "im = image.load()\n",
    "\n",
    "for j in range(height+2):\n",
    "    for i in range(width+2):\n",
    "\n",
    "        if(get_test[i][j]==1):\n",
    "            R = 0\n",
    "            G = 0\n",
    "            B = 0\n",
    "            im[i,j] = (R,G,B)\n",
    "        elif(get_test[i][j]==2): #끝점\n",
    "            R = 255\n",
    "            G = 0\n",
    "            B = 0\n",
    "            im[i,j] = (R,G,B)\n",
    "        elif(get_test[i][j]==3): #초록 분기점\n",
    "            R = 0 \n",
    "            G = 255\n",
    "            B = 0\n",
    "            im[i,j] = (R,G,B)\n",
    "        elif(get_test[i][j]==4):#파랑 꺾인곳\n",
    "            R = 0\n",
    "            G = 0\n",
    "            B = 255\n",
    "            im[i,j] = (R,G,B)\n",
    "\n",
    "\n",
    "imshow(np.asarray(image))\n",
    "image.save(\"testss.bmp\")\n",
    "image.close()"
   ]
  },
  {
   "cell_type": "code",
   "execution_count": null,
   "metadata": {},
   "outputs": [],
   "source": []
  }
 ],
 "metadata": {
  "kernelspec": {
   "display_name": "Python 3",
   "language": "python",
   "name": "python3"
  },
  "language_info": {
   "codemirror_mode": {
    "name": "ipython",
    "version": 3
   },
   "file_extension": ".py",
   "mimetype": "text/x-python",
   "name": "python",
   "nbconvert_exporter": "python",
   "pygments_lexer": "ipython3",
   "version": "3.7.3"
  }
 },
 "nbformat": 4,
 "nbformat_minor": 2
}
