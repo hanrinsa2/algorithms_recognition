{
 "cells": [
  {
   "cell_type": "code",
   "execution_count": 59,
   "metadata": {},
   "outputs": [],
   "source": [
    "#P9 P2 P3 \n",
    "#P8 P1 P4 \n",
    "#p7 P6 P5\n",
    "\n",
    "#step1\n",
    "#Condition 0: The pixel is 1 and has eight neighbours \n",
    "#Condition 1: 2 < = N(P1) < = 6 \n",
    "#Condition 2: S(P1) = 1\n",
    "#Condition 3: P2 * P4 * P6 = 0 \n",
    "#Condition 4: P4 * P6 * P8 = 0 \n",
    "\n",
    "#step2\n",
    "\n",
    "#Condition 0: The pixel is 1 and has eight neighbours \n",
    "#Condition 1: 2 < = N(P1) < = 6  \n",
    "#Condition 2: S(P1) = 1   \n",
    "#Condition 3: P2 * P4 * P8 = 0   \n",
    "#Condition 4: P2 * P6 * P8 = 0   "
   ]
  },
  {
   "cell_type": "code",
   "execution_count": 84,
   "metadata": {},
   "outputs": [],
   "source": [
    "import struct\n",
    "from PIL import Image\n",
    "import numpy as np\n",
    "\n",
    "import matplotlib\n",
    "import matplotlib.pyplot as plt\n",
    "from matplotlib.pyplot import imshow\n",
    "import skimage.io as io\n",
    "from skimage.filters import threshold_otsu\n",
    "from PIL import Image\n",
    "\n",
    "%matplotlib inline"
   ]
  },
  {
   "cell_type": "code",
   "execution_count": 85,
   "metadata": {},
   "outputs": [],
   "source": [
    "#씨닝알고리즘 함수\n",
    "def neighbours(x,y,image):\n",
    "    \"해당하는 점에 대하여 주변 픽셀 8개를 지정해줌\"\n",
    "    img = image\n",
    "    x_1, y_1, x1, y1 = x-1, y-1, x+1, y+1\n",
    "    return [ img[x_1][y], img[x_1][y1], img[x][y1], img[x1][y1],     # P2,P3,P4,P5\n",
    "                img[x1][y], img[x1][y_1], img[x][y_1], img[x_1][y_1] ]    # P6,P7,P8,P9\n",
    "\n",
    "\n",
    "def transitions(neighbours):\n",
    "    \"주변 픽셀을 9시방향부터 시작하여 시계방향으로 돌렸을 때 두픽셀이 0->1로 되는 갯수\"\n",
    "    n = neighbours + neighbours[0:1]      # P2, P3, ... , P8, P9, P2\n",
    "    return sum( (n1, n2) == (0, 1) for n1, n2 in zip(n, n[1:]) )  # (P2,P3), (P3,P4), ... , (P8,P9), (P9,P2)\n",
    "\n",
    "\n",
    "def zhangSuen(image):\n",
    "    \"the Zhang-Suen Thinning Algorithm\"\n",
    "    Image_Thinned = image.copy()  # 이미지를 복사하여 넣음\n",
    "    changing1 = changing2 = 1        #  초기는 시작을 하기위해 1로 지정\n",
    "    while changing1 or changing2:   #  step1과 step2가 더이상 만족하지 못할 때 반복문을 나감\n",
    "        # Step 1\n",
    "        changing1 = []\n",
    "        rows, columns = Image_Thinned.shape               # x for rows, y for columns\n",
    "        for x in range(1, rows - 1):                     # No. of  rows\n",
    "            for y in range(1, columns - 1):            # No. of columns\n",
    "                P2,P3,P4,P5,P6,P7,P8,P9 = n = neighbours(x, y, Image_Thinned)\n",
    "                if (Image_Thinned[x][y] == 1     and    # Condition 0: 해당 픽셀이 검은색인지 \n",
    "                    2 <= sum(n) <= 6   and    # Condition 1: 2<= N(P1) <= 6 \n",
    "                    transitions(n) == 1 and    # Condition 2: S(P1)=1  \n",
    "                    P2 * P4 * P6 == 0  and    # Condition 3   \n",
    "                    P4 * P6 * P8 == 0):         # Condition 4\n",
    "                    changing1.append((x,y))\n",
    "        for x, y in changing1: \n",
    "            Image_Thinned[x][y] = 0\n",
    "        # Step 2\n",
    "        changing2 = []\n",
    "        for x in range(1, rows - 1):\n",
    "            for y in range(1, columns - 1):\n",
    "                P2,P3,P4,P5,P6,P7,P8,P9 = n = neighbours(x, y, Image_Thinned)\n",
    "                if (Image_Thinned[x][y] == 1   and        # Condition 0\n",
    "                    2 <= sum(n) <= 6  and       # Condition 1\n",
    "                    transitions(n) == 1 and      # Condition 2\n",
    "                    P2 * P4 * P8 == 0 and       # Condition 3\n",
    "                    P2 * P6 * P8 == 0):            # Condition 4\n",
    "                    changing2.append((x,y))    \n",
    "        for x, y in changing2: \n",
    "            Image_Thinned[x][y] = 0\n",
    "    return Image_Thinned\n",
    "\n",
    "\n"
   ]
  },
  {
   "cell_type": "code",
   "execution_count": null,
   "metadata": {},
   "outputs": [],
   "source": [
    "## 씨닝알고리즘 적용된 이미지 저장\n",
    "\n",
    "with open('rec.dat', 'rb') as f:\n",
    "\n",
    "    num_of_digit_b = f.read(4) #숫자의 총 갯수\n",
    "    num_of_digit = struct.unpack('i',num_of_digit_b)\n",
    "    num_of_digit = num_of_digit[0]\n",
    "    \n",
    "    #data=[] #이미지의 정보\n",
    "    \n",
    "    a=0 \n",
    "    while True:\n",
    "\n",
    "        figure = f.read(1) # 해당숫자\n",
    "        if not figure: break \n",
    "        #if not figure==b'0': break\n",
    "\n",
    "        width_b = f.read(4) #가로\n",
    "        width = struct.unpack('i',width_b)\n",
    "        \n",
    "        height_b = f.read(4) #세로\n",
    "        height = struct.unpack('i',height_b)\n",
    "\n",
    "        temp=np.zeros((width[0],height[0]))\n",
    "        #print(temp)\n",
    "        for j in range(height[0]):\n",
    "            for i in range(width[0]):\n",
    "                binary_pibot_b = f.read(1)\n",
    "                binary_pibot = struct.unpack('B',binary_pibot_b)\n",
    "\n",
    "                temp[i][j]=binary_pibot[0]\n",
    "                \n",
    "        \n",
    "        \n",
    "        \n",
    "        \n",
    "        \n",
    "        Img_Original =  temp\n",
    "        BW_Skeleton = zhangSuen(Img_Original)\n",
    "        image = Image.new(\"RGB\",(width[0],height[0]),(255,255,255))\n",
    "        im = image.load()\n",
    "\n",
    "        for j in range(height[0]):\n",
    "            for i in range(width[0]):\n",
    "\n",
    "                color = 255 * (1-int(BW_Skeleton[i][j]))\n",
    "\n",
    "                im[i,j] = (color,color,color)\n",
    "\n",
    "        \n",
    "        image.save(\"dataset/0dataset/test{0}.jpg\".format(a))\n",
    "        image.close()\n",
    "        a+=1\n",
    "                \n",
    "\n",
    "\n",
    "\n",
    "\n",
    "\n",
    "    \n"
   ]
  },
  {
   "cell_type": "code",
   "execution_count": 83,
   "metadata": {},
   "outputs": [],
   "source": [
    "# main문\n",
    "\n",
    "Img_Original =  data[0]\n",
    "BW_Skeleton = zhangSuen(Img_Original)\n"
   ]
  },
  {
   "cell_type": "code",
   "execution_count": 73,
   "metadata": {},
   "outputs": [
    {
     "name": "stdout",
     "output_type": "stream",
     "text": [
      "<PIL.JpegImagePlugin.JpegImageFile image mode=RGB size=24x33 at 0x1A3E3E48D68>\n",
      "24 33\n"
     ]
    },
    {
     "data": {
      "image/png": "[encoded data removed]",
      "text/plain": [
       "<Figure size 432x288 with 1 Axes>"
      ]
     },
     "metadata": {
      "needs_background": "light"
     },
     "output_type": "display_data"
    }
   ],
   "source": [
    "img = Image.open(\"dataset/1.jpg\")\n",
    "print(img)\n",
    "width, height = img.size\n",
    "imshow(np.asarray(img))\n",
    "print(width, height)\n",
    "img.close()"
   ]
  },
  {
   "cell_type": "code",
   "execution_count": 82,
   "metadata": {},
   "outputs": [
    {
     "data": {
      "image/png": "[encoded data removed]",
      "text/plain": [
       "<Figure size 432x288 with 1 Axes>"
      ]
     },
     "metadata": {
      "needs_background": "light"
     },
     "output_type": "display_data"
    }
   ],
   "source": [
    "\"Display the results\"\n",
    "image = Image.new(\"RGB\",(width[0],height[0]),(255,255,255))\n",
    "im = image.load()\n",
    "\n",
    "for j in range(height[0]):\n",
    "    for i in range(width[0]):\n",
    "        \n",
    "        color = 255 * (1-int(BW_Skeleton[i][j]))\n",
    "\n",
    "        im[i,j] = (color,color,color)\n",
    "\n",
    "imshow(np.asarray(image))\n",
    "image.save(\"dataset/0dataset/test1.jpg\")\n",
    "image.close()"
   ]
  },
  {
   "cell_type": "code",
   "execution_count": 52,
   "metadata": {},
   "outputs": [],
   "source": []
  },
  {
   "cell_type": "code",
   "execution_count": null,
   "metadata": {},
   "outputs": [],
   "source": []
  },
  {
   "cell_type": "code",
   "execution_count": null,
   "metadata": {},
   "outputs": [],
   "source": []
  },
  {
   "cell_type": "code",
   "execution_count": null,
   "metadata": {},
   "outputs": [],
   "source": [
    "# rec.dat -> jpg 파일들로 변환 \n",
    "import struct\n",
    "from PIL import Image\n",
    "\n",
    "with open('rec.dat', 'rb') as f:\n",
    "\n",
    "    num_of_digit_b = f.read(4)\n",
    "    num_of_digit = struct.unpack('i',num_of_digit_b)\n",
    "    num_of_digit = num_of_digit[0]\n",
    "    data=[]\n",
    "    a=0\n",
    "    while True:\n",
    "\n",
    "        figure = f.read(1)\n",
    "        if not figure: break\n",
    "\n",
    "        width_b = f.read(4)\n",
    "        width = struct.unpack('i',width_b)\n",
    "\n",
    "        height_b = f.read(4)\n",
    "        height = struct.unpack('i',height_b)\n",
    "\n",
    "        image = Image.new(\"RGB\",(width[0],height[0]),(255,255,255))\n",
    "        im = image.load()\n",
    "\n",
    "        for j in range(height[0]):\n",
    "            for i in range(width[0]):\n",
    "                binary_pibot_b = f.read(1)\n",
    "                binary_pibot = struct.unpack('B',binary_pibot_b)\n",
    "\n",
    "                color = 255 * (1-binary_pibot[0])\n",
    "\n",
    "                im[i,j] = (color,color,color)\n",
    "\n",
    "        \n",
    "        image.save(\"dataset/{0}.jpg\".format(a))\n",
    "        \n",
    "\n",
    "\n",
    "    \n"
   ]
  }
 ],
 "metadata": {
  "kernelspec": {
   "display_name": "Python 3",
   "language": "python",
   "name": "python3"
  },
  "language_info": {
   "codemirror_mode": {
    "name": "ipython",
    "version": 3
   },
   "file_extension": ".py",
   "mimetype": "text/x-python",
   "name": "python",
   "nbconvert_exporter": "python",
   "pygments_lexer": "ipython3",
   "version": "3.7.3"
  }
 },
 "nbformat": 4,
 "nbformat_minor": 2
}
